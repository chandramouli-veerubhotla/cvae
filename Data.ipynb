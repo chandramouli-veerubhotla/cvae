{
 "cells": [
  {
   "cell_type": "code",
   "execution_count": 52,
   "id": "7b622780-ed84-4bfb-bdfb-c535cb37537a",
   "metadata": {},
   "outputs": [],
   "source": [
    "from torchvision.datasets import MNIST\n",
    "from torchvision import transforms\n",
    "from torch.utils.data import DataLoader\n",
    "import matplotlib.pyplot as plt\n",
    "import torch\n",
    "import math\n",
    "import numpy as np"
   ]
  },
  {
   "cell_type": "code",
   "execution_count": 53,
   "id": "3d89a540-a647-470c-85e9-c2a9613fddc7",
   "metadata": {},
   "outputs": [],
   "source": [
    "dataset = MNIST(root='data', train=True, transform=transforms.ToTensor(), download=True)\n",
    "data_loader = DataLoader(dataset=dataset, batch_size=1, shuffle=True)"
   ]
  },
  {
   "cell_type": "code",
   "execution_count": 101,
   "id": "48950528-9e8e-405a-8e38-1dd53e0cb6f9",
   "metadata": {},
   "outputs": [],
   "source": [
    "def show_image(img_tensor, label=None):\n",
    "    if label:\n",
    "        print(label)\n",
    "    \n",
    "    plt.imshow(img_tensor)\n",
    "    \n",
    "\n",
    "def random_mask_image(img_tensor, percentage=0.25):\n",
    "    width, height = img_tensor.shape\n",
    "    total_zeros_required = int(math.floor((width * height) * percentage))\n",
    "    mask_indexes = torch.from_numpy(np.random.choice(range(width*height), total_zeros_required))\n",
    "    \n",
    "    mask = torch.zeros(width*height)\n",
    "    mask[mask_indexes] = 1\n",
    "    mask = mask.reshape(width, -1)\n",
    "    \n",
    "    new_img = img_tensor * mask\n",
    "    return new_img   "
   ]
  },
  {
   "cell_type": "code",
   "execution_count": 93,
   "id": "73ee4c3c-2454-4401-b96e-3f7dc5dddeaf",
   "metadata": {},
   "outputs": [],
   "source": [
    "images, labels = next(iter(data_loader))\n",
    "image = images[0].reshape(28, 28)\n",
    "label = labels[0]"
   ]
  },
  {
   "cell_type": "code",
   "execution_count": 94,
   "id": "6dea7820-5c0d-4d34-9bd2-e34b0fca767a",
   "metadata": {},
   "outputs": [
    {
     "name": "stdout",
     "output_type": "stream",
     "text": [
      "tensor(4)\n"
     ]
    },
    {
     "data": {
      "image/png": "[encoded data removed]",
      "text/plain": [
       "<Figure size 432x288 with 1 Axes>"
      ]
     },
     "metadata": {
      "needs_background": "light"
     },
     "output_type": "display_data"
    }
   ],
   "source": [
    "show_image(image, label=label)"
   ]
  },
  {
   "cell_type": "code",
   "execution_count": 95,
   "id": "0a2facc5-64a1-4199-b356-7f934567f11e",
   "metadata": {},
   "outputs": [
    {
     "name": "stdout",
     "output_type": "stream",
     "text": [
      "Masked 4\n"
     ]
    },
    {
     "data": {
      "image/png": "[encoded data removed]",
      "text/plain": [
       "<Figure size 432x288 with 1 Axes>"
      ]
     },
     "metadata": {
      "needs_background": "light"
     },
     "output_type": "display_data"
    }
   ],
   "source": [
    "show_image(random_mask_image(image, percentage=0.25), label=f\"Masked {labels[0]}\")"
   ]
  },
  {
   "cell_type": "code",
   "execution_count": null,
   "id": "38e7cd82-1f0c-44ab-a614-9154fa0db7a2",
   "metadata": {},
   "outputs": [],
   "source": []
  },
  {
   "cell_type": "code",
   "execution_count": null,
   "id": "eb6faf2f-66c3-480a-88bd-49ea8b88bfb3",
   "metadata": {},
   "outputs": [],
   "source": []
  },
  {
   "cell_type": "code",
   "execution_count": null,
   "id": "512f66ab-e005-40b0-bd52-a53918fcd9a6",
   "metadata": {},
   "outputs": [],
   "source": []
  }
 ],
 "metadata": {
  "kernelspec": {
   "display_name": "cvae",
   "language": "python",
   "name": "cvae"
  },
  "language_info": {
   "codemirror_mode": {
    "name": "ipython",
    "version": 3
   },
   "file_extension": ".py",
   "mimetype": "text/x-python",
   "name": "python",
   "nbconvert_exporter": "python",
   "pygments_lexer": "ipython3",
   "version": "3.9.12"
  }
 },
 "nbformat": 4,
 "nbformat_minor": 5
}
